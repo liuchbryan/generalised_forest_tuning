{
 "cells": [
  {
   "cell_type": "markdown",
   "metadata": {},
   "source": [
    "# Generalised Forest Tuning - Figure 1\n",
    "\n",
    "This is the code used to generate figure 1 of the paper \"Generalising Random Forest Parameter Optimisation to Include Stability and Cost\" by CHB Liu, BP Chamberlain, DA Little, A Cardoso (2017).\n",
    "\n",
    "Please ensure you are using the anaconda environment `gft_env`. This is usually indicated by successfully importing the libraries below. If the library import resulted in any error, please try and run the `./setup_environment.sh` script again."
   ]
  },
  {
   "cell_type": "code",
   "execution_count": 1,
   "metadata": {
    "collapsed": true
   },
   "outputs": [],
   "source": [
    "import numpy as np\n",
    "import matplotlib.pyplot as plt"
   ]
  },
  {
   "cell_type": "code",
   "execution_count": 2,
   "metadata": {
    "collapsed": false
   },
   "outputs": [
    {
     "data": {
      "image/png": "[encoded data removed]",
      "text/plain": [
       "<matplotlib.figure.Figure at 0x11394dd10>"
      ]
     },
     "metadata": {},
     "output_type": "display_data"
    }
   ],
   "source": [
    "x = np.array([0, 1, 2])\n",
    "y = np.array([0.4, 0.5, 0.75])\n",
    "\n",
    "x1 = np.array([1, 2])\n",
    "y1 = np.array([0.5, 0.66])\n",
    "\n",
    "fig = plt.figure(figsize=(8, 3))\n",
    "ax = fig.add_subplot(1, 1, 1)\n",
    "\n",
    "ax.plot(x, y, 'x-', c='b')\n",
    "ax.plot(x1, y1, 'x--', c='b')\n",
    "\n",
    "ax.set_xlim(0.8, 3.8)\n",
    "ax.set_ylim(0.45, 0.8)\n",
    "\n",
    "# Change in external factor\n",
    "plt.errorbar(2.4, 0.58, yerr=0.08, color=(0, 0.5, 0, 1))\n",
    "\n",
    "# Modal stability\n",
    "plt.errorbar(2.6, 0.71, yerr=0.05, color=(1, 0, 0, 1))\n",
    "plt.errorbar(2.6, 0.66, yerr=0.11, color=(1, 0, 0, 0.3))\n",
    "\n",
    "ax.spines['right'].set_color('none')\n",
    "ax.spines['top'].set_color('none')\n",
    "ax.xaxis.set_ticks_position('bottom')\n",
    "ax.yaxis.set_ticks_position('left')\n",
    "\n",
    "plt.axvline(2.2, c=(0, 0, 0, 0.3))\n",
    "\n",
    "plt.ylabel(\"Predicted risk\")\n",
    "plt.xticks([1, 2], [\"Day $n-1$\", \"Day $n$\"])\n",
    "\n",
    "plt.text(2.8, 0.77, \"$\\Delta$ predicted risk = \")\n",
    "plt.text(2.8, 0.70, \"$\\quad\\;\\Delta$ due to fluctuation\\n$\\quad\\quad\\;\\;\\;$in predictions\")\n",
    "plt.text(2.8, 0.6, \"$+\\;\\Delta$ due to external\\n$\\quad\\quad\\;\\;$factors\")\n",
    "\n",
    "\n",
    "# plt.savefig(\"../results/risk_change_breakdown.pdf\", bbox_inches='tight')\n",
    "plt.show()"
   ]
  },
  {
   "cell_type": "code",
   "execution_count": null,
   "metadata": {
    "collapsed": true
   },
   "outputs": [],
   "source": []
  }
 ],
 "metadata": {
  "anaconda-cloud": {},
  "kernelspec": {
   "display_name": "Python [conda env:gft_env]",
   "language": "python",
   "name": "conda-env-gft_env-py"
  },
  "language_info": {
   "codemirror_mode": {
    "name": "ipython",
    "version": 2
   },
   "file_extension": ".py",
   "mimetype": "text/x-python",
   "name": "python",
   "nbconvert_exporter": "python",
   "pygments_lexer": "ipython2",
   "version": "2.7.13"
  }
 },
 "nbformat": 4,
 "nbformat_minor": 1
}
