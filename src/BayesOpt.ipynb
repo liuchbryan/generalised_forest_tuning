{
 "cells": [
  {
   "cell_type": "markdown",
   "metadata": {},
   "source": [
    "# Generalised Forest Tuning - Bayesian Optimisation\n",
    "\n",
    "This is the code used to run experiments on Bayesian optimisation in the paper \"Generalising Random Forest Parameter Optimisation to Include Stability and Cost\" by CHB Liu, BP Chamberlain, DA Little, A Cardoso (2017).\n",
    "\n",
    "Please ensure you are using the [conda env: gft_env] kernel - it is shown on the top right hand corner. To change the kernel, click on the toolbar Kernel > Change kernel > Python [conda env: gft_env]."
   ]
  },
  {
   "cell_type": "markdown",
   "metadata": {},
   "source": [
    "## Library imports"
   ]
  },
  {
   "cell_type": "code",
   "execution_count": 1,
   "metadata": {
    "collapsed": true
   },
   "outputs": [],
   "source": [
    "import pandas as pd # You need pandas 0.19+\n",
    "import numpy as np\n",
    "\n",
    "from data_loader import *\n",
    "from evaluator import *\n",
    "from pybo import solve_bayesopt\n",
    "from functools import partial"
   ]
  },
  {
   "cell_type": "markdown",
   "metadata": {},
   "source": [
    "## Bayesian Optimisation Wrapper Function\n",
    "\n",
    "The following function takes the training and validation features and labels, the loss function weights ($\\alpha$, $\\beta$, and $\\gamma$), and returns the best forest parameter combination, the Bayesian optimisation model, intermediary results, and the metrics achieved with the best forest parameter combination."
   ]
  },
  {
   "cell_type": "code",
   "execution_count": 2,
   "metadata": {
    "collapsed": true
   },
   "outputs": [],
   "source": [
    "def bayesopt_RF_performace(\n",
    "    X_train, X_val, y_train, y_val,\n",
    "    weight_alpha=1, weight_beta=1, weight_gamma=1):\n",
    "\n",
    "    objective = \\\n",
    "        partial(get_RF_generalised_performance_score,\n",
    "                features_train_complete=X_train,\n",
    "                features_val=X_val,\n",
    "                labels_train_complete=y_train,\n",
    "                labels_val=y_val,\n",
    "                weight_alpha=weight_alpha,\n",
    "                weight_beta=weight_beta,\n",
    "                weight_gamma=weight_gamma,\n",
    "                verbose=False)\n",
    "\n",
    "    xbest, model, info = solve_bayesopt(\n",
    "        objective,\n",
    "        bounds=[[5, 200], [1, 20], [0.1, 1]],\n",
    "        niter=20, \n",
    "        verbose=True)\n",
    "\n",
    "    best_performance = \\\n",
    "         train_and_get_RF_performance(\n",
    "             np.array(xbest), \n",
    "             X_train, \n",
    "             X_val,\n",
    "             y_train, \n",
    "             y_val, \n",
    "             nrun=10)\n",
    "        \n",
    "    return xbest, model, info, best_performance"
   ]
  },
  {
   "cell_type": "markdown",
   "metadata": {},
   "source": [
    "## Bayesian optimisation for Orange small dataset"
   ]
  },
  {
   "cell_type": "code",
   "execution_count": 3,
   "metadata": {
    "collapsed": false
   },
   "outputs": [],
   "source": [
    "orange_small_features, _, _, orange_small_upselling_labels = \\\n",
    "    get_and_process_orange_small_data()\n",
    "\n",
    "# Do train validation split:\n",
    "# We select the first <prop> data as train data, \n",
    "# the rest will be the hold out validation set\n",
    "orange_small_features_train, orange_small_features_val, \\\n",
    "orange_small_upselling_labels_train, orange_small_upselling_labels_val = \\\n",
    "    split_train_val_data(orange_small_features,\n",
    "                         orange_small_upselling_labels,\n",
    "                         prop=0.5)"
   ]
  },
  {
   "cell_type": "code",
   "execution_count": null,
   "metadata": {
    "collapsed": false
   },
   "outputs": [
    {
     "name": "stdout",
     "output_type": "stream",
     "text": [
      "i=000, x=[ 102.246  1.129  0.129], y= 0.785, xbest=[ 63.580  1.000  0.884]\n",
      "i=001, x=[ 53.358  1.010  0.971], y= 0.752, xbest=[ 91.901  6.211  0.457]\n",
      "i=002, x=[ 81.235  5.978  0.459], y= 0.816, xbest=[ 95.516  5.864  0.477]\n",
      "i=003, x=[ 93.805  5.238  0.458], y= 0.807, xbest=[ 92.505  5.760  0.452]\n",
      "i=004, x=[ 5.000  1.000  0.100], y= 0.537, xbest=[ 180.835  1.000  0.212]\n",
      "i=005, x=[ 200.000  1.000  0.100], y= 0.775, xbest=[ 131.584  1.000  0.474]\n",
      "i=006, x=[ 5.000  20.000  1.000], y= 0.635, xbest=[ 120.854  4.450  0.485]\n",
      "i=007, x=[ 127.692  2.251  0.492], y= 0.771, xbest=[ 100.879  7.285  0.512]\n",
      "i=008, x=[ 200.000  20.000  0.100], y= 0.772, xbest=[ 100.631  7.199  0.534]\n",
      "i=009, x=[ 139.431  7.174  0.100], y= 0.801, xbest=[ 110.465  7.829  0.454]\n",
      "i=010, x=[ 107.473  7.769  0.472], y= 0.799, xbest=[ 133.147  8.520  0.335]\n",
      "i=011, x=[ 150.694  10.845  0.100], y= 0.785, xbest=[ 128.212  7.538  0.422]\n",
      "i=012, x=[ 128.047  7.762  0.418], y= 0.804, xbest=[ 120.127  7.602  0.441]\n",
      "i=013, x=[ 117.559  7.928  0.445], y= 0.803, xbest=[ 121.247  7.936  0.453]\n",
      "i=014, x=[ 138.860  9.307  0.325], y= 0.797, xbest=[ 111.758  7.126  0.522]\n",
      "i=015, x=[ 102.874  7.327  0.586], y= 0.797, xbest=[ 99.100  6.895  0.571]\n",
      "i=016, x=[ 200.000  20.000  1.000], y= 0.648, xbest=[ 95.885  7.056  0.583]\n",
      "i=017, x=[ 84.479  6.630  0.638], y= 0.806, xbest=[ 98.139  6.524  0.570]\n",
      "i=018, x=[ 123.890  19.993  0.102], y= 0.765, xbest=[ 102.074  7.296  0.519]\n",
      "i=019, x=[ 99.616  7.545  0.525], y= 0.803, xbest=[ 114.428  6.988  0.499]\n",
      "\n",
      "------ BAYESOPT RESULT ------\n",
      "The best parameter combination (with the highest posterior mean) found by Bayesian optimisation is:\n",
      "No. trees: 114.427584686, Max tree depth: 6.98757173392, Training prop.: 0.499333135748\n",
      "\n",
      "The metrics achieved under this parameter combination is as follow:\n",
      "{'AUC': 0.8365568233391647, 'RMSPD': 0.0089023507349648666, 'MSPD': 7.9251848608329498e-05, 'Pred Stdev': 0.031537116509453157, 'Pred Var': 0.00099458971773082284, 'AUC stdev': 0.0028775141392095435, 'Runtime stdev': 0.013372769930388795, 'Runtime': 2.1476614999999999}\n"
     ]
    }
   ],
   "source": [
    "# To observe the forest parameters' sensitivity on weight parameters,\n",
    "# change the values of <weight_alpha>, <weight_beta> and <weight_gamma>\n",
    "best_param, _, _, best_performance = \\\n",
    "    bayesopt_RF_performace(\n",
    "        orange_small_features_train, orange_small_features_val,\n",
    "        orange_small_upselling_labels_train, \n",
    "        orange_small_upselling_labels_val,\n",
    "        weight_alpha=1, weight_beta=1, weight_gamma=0.01\n",
    "    )\n",
    "\n",
    "# Print results\n",
    "print(\"\")\n",
    "print(\"------ BAYESIAN OPTIMISATION RESULT ------\")\n",
    "print(\"The best parameter combination (with the highest \"\n",
    "      \"posterior mean) found by Bayesian optimisation is:\")\n",
    "print(\"No. trees: \" + str(int(best_param[0])) + \n",
    "      \", Max tree depth: \" + str(int(best_param[1])) +\n",
    "      \", Training prop.: \" + str(best_param[2]) + \"\\n\")\n",
    "\n",
    "print(\"The metrics achieved under this parameter combination \"\n",
    "      \"is as follow:\")\n",
    "print(best_performance)"
   ]
  },
  {
   "cell_type": "markdown",
   "metadata": {
    "collapsed": true
   },
   "source": [
    "## Bayesian optimisation for Criteo dataset\n",
    "\n",
    "Warning: Long running process"
   ]
  },
  {
   "cell_type": "code",
   "execution_count": null,
   "metadata": {
    "collapsed": false
   },
   "outputs": [],
   "source": [
    "# Default to train and tune parameters with 10% of criteo data to\n",
    "# prevent memory issues\n",
    "# If you have >64GB of memory and would like to use the full\n",
    "# dataset, set the <sample> argument to False\n",
    "criteo_features, criteo_labels = \\\n",
    "    get_and_process_criteo_data(sample=True)\n",
    "\n",
    "# Do train validation split:\n",
    "# We select the first <prop> data as train data, \n",
    "# the rest will be the hold out validation set\n",
    "criteo_features_train, criteo_features_val, \\\n",
    "criteo_labels_train, criteo_labels_val = \\\n",
    "    split_train_val_data(criteo_features,\n",
    "                         criteo_labels,\n",
    "                         prop=0.5)"
   ]
  },
  {
   "cell_type": "code",
   "execution_count": null,
   "metadata": {
    "collapsed": false
   },
   "outputs": [],
   "source": [
    "# To observe the forest parameters' sensitivity on weight parameters,\n",
    "# change the values of <weight_alpha>, <weight_beta> and <weight_gamma>\n",
    "best_param, _, _, best_performance = \\\n",
    "    bayesopt_RF_performace(\n",
    "        criteo_features_train, criteo_features_val,\n",
    "        criteo_labels_train, criteo_labels_val,\n",
    "        weight_alpha=1, weight_beta=1, weight_gamma=0.001\n",
    "    )\n",
    "\n",
    "# Print results\n",
    "print(\"\")\n",
    "print(\"------ BAYESIAN OPTIMISATION RESULT ------\")\n",
    "print(\"The best parameter combination (with the highest \"\n",
    "      \"posterior mean) found by Bayesian optimisation is:\")\n",
    "print(\"No. trees: \" + str(int(best_param[0])) + \n",
    "      \", Max tree depth: \" + str(int(best_param[1])) +\n",
    "      \", Training prop.: \" + str(best_param[2]) + \"\\n\")\n",
    "\n",
    "print(\"The metrics achieved under this parameter combination \"\n",
    "      \"is as follow:\")\n",
    "print(best_performance)"
   ]
  },
  {
   "cell_type": "code",
   "execution_count": null,
   "metadata": {
    "collapsed": true
   },
   "outputs": [],
   "source": []
  }
 ],
 "metadata": {
  "anaconda-cloud": {},
  "kernelspec": {
   "display_name": "Python [conda env:gft_env]",
   "language": "python",
   "name": "conda-env-gft_env-py"
  },
  "language_info": {
   "codemirror_mode": {
    "name": "ipython",
    "version": 2
   },
   "file_extension": ".py",
   "mimetype": "text/x-python",
   "name": "python",
   "nbconvert_exporter": "python",
   "pygments_lexer": "ipython2",
   "version": "2.7.13"
  }
 },
 "nbformat": 4,
 "nbformat_minor": 1
}
